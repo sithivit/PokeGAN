{
 "cells": [
  {
   "cell_type": "code",
   "execution_count": 1,
   "id": "a124062f",
   "metadata": {},
   "outputs": [],
   "source": [
    "import os\n",
    "import tensorflow as tf\n",
    "import numpy as np \n",
    "from PIL import Image"
   ]
  },
  {
   "cell_type": "code",
   "execution_count": 2,
   "id": "2ca09de4",
   "metadata": {},
   "outputs": [
    {
     "name": "stdout",
     "output_type": "stream",
     "text": [
      "True\n",
      "WARNING:tensorflow:From C:\\Users\\User\\AppData\\Local\\Temp\\ipykernel_26668\\2630385693.py:4: is_gpu_available (from tensorflow.python.framework.test_util) is deprecated and will be removed in a future version.\n",
      "Instructions for updating:\n",
      "Use `tf.config.list_physical_devices('GPU')` instead.\n",
      "True\n",
      "True\n"
     ]
    }
   ],
   "source": [
    "# USE GPU to run\n",
    "\n",
    "print(tf.test.is_built_with_cuda())\n",
    "print(tf.test.is_gpu_available())\n",
    "print(tf.test.is_built_with_cuda())\n",
    "\n",
    "gpus = tf.config.list_physical_devices('GPU')\n",
    "tf.config.experimental.set_memory_growth(gpus[0], True)"
   ]
  },
  {
   "cell_type": "code",
   "execution_count": 80,
   "id": "00d1a762",
   "metadata": {
    "scrolled": false
   },
   "outputs": [],
   "source": [
    "# Load data\n",
    "\n",
    "def load_data():\n",
    "    cur_path = os.getcwd()+'\\\\'\n",
    "    classes = [x for x in os.listdir(cur_path) if not x.startswith('.')][:10]\n",
    "    label_set = set()\n",
    "    data = []\n",
    "    labels = []\n",
    "    for i in classes:\n",
    "        if not (i.replace(cur_path, \"\")).startswith('.'):\n",
    "            images = os.listdir(i)\n",
    "            for a in images:\n",
    "                if a.endswith('.jpg'):\n",
    "                    image = Image.open(i + '\\\\' + a)\n",
    "                    image = image.resize((60, 60))\n",
    "                        \n",
    "                    image = np.asarray(image)\n",
    "                        \n",
    "                    data.append(image)\n",
    "                        \n",
    "                    labels.append(classes.index(i.split('\\\\')[-1]))\n",
    "                    label_set.add(i.split('\\\\')[-1])\n",
    "\n",
    "    return data, labels, len(label_set) \n",
    "\n",
    "data, labels, num_len = load_data()"
   ]
  },
  {
   "cell_type": "code",
   "execution_count": 81,
   "id": "f5448fe9",
   "metadata": {},
   "outputs": [
    {
     "name": "stdout",
     "output_type": "stream",
     "text": [
      "Amount of images:  1524\n",
      "Dimension of each image:  (60, 60, 3)\n",
      "Num length:  10\n"
     ]
    }
   ],
   "source": [
    "print(\"Amount of images: \", len(data))\n",
    "print(\"Dimension of each image: \", data[0].shape)\n",
    "print(\"Num length: \", num_len)\n"
   ]
  },
  {
   "cell_type": "code",
   "execution_count": 84,
   "id": "23e632e0",
   "metadata": {},
   "outputs": [],
   "source": [
    "data = [i for i in data if i.shape == (60, 60, 3)]\n",
    "data = np.array(data)\n",
    "data = data.astype('float32')/255.0"
   ]
  },
  {
   "cell_type": "code",
   "execution_count": 85,
   "id": "3bdb1c20",
   "metadata": {},
   "outputs": [
    {
     "data": {
      "text/plain": [
       "<tf.Tensor: shape=(1524, 10, 10), dtype=float32, numpy=\n",
       "array([[[0., 1., 0., ..., 0., 0., 0.],\n",
       "        [1., 0., 0., ..., 0., 0., 0.],\n",
       "        [1., 0., 0., ..., 0., 0., 0.],\n",
       "        ...,\n",
       "        [1., 0., 0., ..., 0., 0., 0.],\n",
       "        [1., 0., 0., ..., 0., 0., 0.],\n",
       "        [1., 0., 0., ..., 0., 0., 0.]],\n",
       "\n",
       "       [[0., 1., 0., ..., 0., 0., 0.],\n",
       "        [1., 0., 0., ..., 0., 0., 0.],\n",
       "        [1., 0., 0., ..., 0., 0., 0.],\n",
       "        ...,\n",
       "        [1., 0., 0., ..., 0., 0., 0.],\n",
       "        [1., 0., 0., ..., 0., 0., 0.],\n",
       "        [1., 0., 0., ..., 0., 0., 0.]],\n",
       "\n",
       "       [[0., 1., 0., ..., 0., 0., 0.],\n",
       "        [1., 0., 0., ..., 0., 0., 0.],\n",
       "        [1., 0., 0., ..., 0., 0., 0.],\n",
       "        ...,\n",
       "        [1., 0., 0., ..., 0., 0., 0.],\n",
       "        [1., 0., 0., ..., 0., 0., 0.],\n",
       "        [1., 0., 0., ..., 0., 0., 0.]],\n",
       "\n",
       "       ...,\n",
       "\n",
       "       [[1., 0., 0., ..., 0., 0., 0.],\n",
       "        [1., 0., 0., ..., 0., 0., 0.],\n",
       "        [1., 0., 0., ..., 0., 0., 0.],\n",
       "        ...,\n",
       "        [1., 0., 0., ..., 0., 0., 0.],\n",
       "        [1., 0., 0., ..., 0., 0., 0.],\n",
       "        [0., 1., 0., ..., 0., 0., 0.]],\n",
       "\n",
       "       [[1., 0., 0., ..., 0., 0., 0.],\n",
       "        [1., 0., 0., ..., 0., 0., 0.],\n",
       "        [1., 0., 0., ..., 0., 0., 0.],\n",
       "        ...,\n",
       "        [1., 0., 0., ..., 0., 0., 0.],\n",
       "        [1., 0., 0., ..., 0., 0., 0.],\n",
       "        [0., 1., 0., ..., 0., 0., 0.]],\n",
       "\n",
       "       [[1., 0., 0., ..., 0., 0., 0.],\n",
       "        [1., 0., 0., ..., 0., 0., 0.],\n",
       "        [1., 0., 0., ..., 0., 0., 0.],\n",
       "        ...,\n",
       "        [1., 0., 0., ..., 0., 0., 0.],\n",
       "        [1., 0., 0., ..., 0., 0., 0.],\n",
       "        [0., 1., 0., ..., 0., 0., 0.]]], dtype=float32)>"
      ]
     },
     "execution_count": 85,
     "metadata": {},
     "output_type": "execute_result"
    }
   ],
   "source": [
    "labels = tf.one_hot(tf.cast(labels, dtype=tf.int32), num_len)\n",
    "labels"
   ]
  },
  {
   "cell_type": "code",
   "execution_count": null,
   "id": "74c3b964",
   "metadata": {},
   "outputs": [],
   "source": []
  }
 ],
 "metadata": {
  "kernelspec": {
   "display_name": "RL",
   "language": "python",
   "name": "rl"
  },
  "language_info": {
   "codemirror_mode": {
    "name": "ipython",
    "version": 3
   },
   "file_extension": ".py",
   "mimetype": "text/x-python",
   "name": "python",
   "nbconvert_exporter": "python",
   "pygments_lexer": "ipython3",
   "version": "3.10.0"
  }
 },
 "nbformat": 4,
 "nbformat_minor": 5
}
